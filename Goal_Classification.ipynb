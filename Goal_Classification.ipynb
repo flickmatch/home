{
  "nbformat": 4,
  "nbformat_minor": 0,
  "metadata": {
    "colab": {
      "provenance": [],
      "authorship_tag": "ABX9TyNhk4aRfVDOKVUCz53cTcZO",
      "include_colab_link": true
    },
    "kernelspec": {
      "name": "python3",
      "display_name": "Python 3"
    },
    "language_info": {
      "name": "python"
    }
  },
  "cells": [
    {
      "cell_type": "markdown",
      "metadata": {
        "id": "view-in-github",
        "colab_type": "text"
      },
      "source": [
        "<a href=\"https://colab.research.google.com/github/flickmatch/home/blob/Shivam_Model-ML/Goal_Classification.ipynb\" target=\"_parent\"><img src=\"https://colab.research.google.com/assets/colab-badge.svg\" alt=\"Open In Colab\"/></a>"
      ]
    },
    {
      "cell_type": "markdown",
      "source": [
        "Binary classification Model for Goal Detection"
      ],
      "metadata": {
        "id": "tEAiuKJVoOXm"
      }
    },
    {
      "cell_type": "markdown",
      "source": [
        "Importing libraries"
      ],
      "metadata": {
        "id": "nOnF4_VNog7S"
      }
    },
    {
      "cell_type": "code",
      "source": [
        "import os\n",
        "import numpy as np\n",
        "import tensorflow as tf\n",
        "import matplotlib.pyplot as plt\n",
        "from google.colab import drive\n",
        "drive.mount('/content/gdrive')"
      ],
      "metadata": {
        "id": "kVm1KL8HoVkQ"
      },
      "execution_count": null,
      "outputs": []
    },
    {
      "cell_type": "markdown",
      "source": [
        "splitting input data into train and validation set"
      ],
      "metadata": {
        "id": "Onl6LzvcorQg"
      }
    },
    {
      "cell_type": "code",
      "source": [
        "def get_dataset(\n",
        "    batch_size=32,\n",
        "    img_height=224,\n",
        "    img_width=224,\n",
        "    data_dir='',                  # path to directory where training data is available\n",
        "    validation_split=0.2,\n",
        "    test_data_dir=''              # path to directory where test data is available\n",
        "):\n",
        "    train_dataset = tf.keras.utils.image_dataset_from_directory(\n",
        "        data_dir,\n",
        "        validation_split=validation_split,\n",
        "        subset=\"training\",\n",
        "        seed=123,\n",
        "        image_size=(img_height, img_width),\n",
        "        batch_size=batch_size\n",
        "    )\n",
        "\n",
        "    validation_dataset = tf.keras.utils.image_dataset_from_directory(\n",
        "        data_dir,\n",
        "        validation_split=validation_split,\n",
        "        subset=\"validation\",\n",
        "        seed=123,\n",
        "        image_size=(img_height, img_width),\n",
        "        batch_size=batch_size\n",
        "    )\n",
        "\n",
        "    test_dataset = tf.keras.utils.image_dataset_from_directory(\n",
        "        test_data_dir,\n",
        "        validation_split=None,  # No validation split for test dataset\n",
        "        seed=123,\n",
        "        image_size=(img_height, img_width),\n",
        "        batch_size=batch_size\n",
        "    )\n",
        "\n",
        "    class_names = train_dataset.class_names\n",
        "    return train_dataset, validation_dataset, test_dataset, class_names"
      ],
      "metadata": {
        "id": "MYk_YeLdo6Hq"
      },
      "execution_count": null,
      "outputs": []
    },
    {
      "cell_type": "markdown",
      "source": [
        "Binary Classification training script based on CNNs"
      ],
      "metadata": {
        "id": "3qKw98xfpgjc"
      }
    },
    {
      "cell_type": "code",
      "source": [
        "def get_vgg16_model():\n",
        "  # VGG16\n",
        "  vgg = tf.keras.applications.VGG16(\n",
        "      include_top=False,\n",
        "      weights='imagenet',\n",
        "      input_shape=(224, 224, 3),\n",
        "      pooling='avg'\n",
        "  )\n",
        "  vgg.trainable = False\n",
        "  return vgg\n",
        "\n",
        "\n",
        "def get_resnet50_model():\n",
        "  # Resnet50\n",
        "  resnet = tf.keras.applications.resnet50.ResNet50(\n",
        "      include_top=False,\n",
        "      weights='imagenet',\n",
        "      input_shape=(224, 224, 3),\n",
        "      pooling='avg'\n",
        "  )\n",
        "  resnet.trainable = False\n",
        "  return resnet\n",
        "\n",
        "\n",
        "def get_model(\n",
        "  checkpoint_path,\n",
        "  model_name,\n",
        "  load_weights=False\n",
        "):\n",
        "  epoch_path = os.path.join(checkpoint_path, 'cp-{epoch:04d}.ckpt')\n",
        "  checkpoint_dir = os.path.dirname(checkpoint_path)\n",
        "\n",
        "  # Create a callback that saves the model's weights every 5 epochs\n",
        "  cp_callback = tf.keras.callbacks.ModelCheckpoint(\n",
        "      filepath=checkpoint_path,\n",
        "      verbose=1,\n",
        "      save_weights_only=True,\n",
        "      save_freq='epoch')\n",
        "\n",
        "  model = tf.keras.models.Sequential()\n",
        "  model.add(tf.keras.layers.Rescaling(1./255))\n",
        "\n",
        "  if model_name == 'vgg16':\n",
        "    model.add(get_vgg16_model())\n",
        "  elif model_name == 'resnet50':\n",
        "    model.add(get_resnet50_model())\n",
        "  else:\n",
        "    raise ValueError(f'Provided model_name={model_name} is not supported today.')\n",
        "\n",
        "  model.add(tf.keras.layers.Dense(256, activation='relu'))\n",
        "  model.add(tf.keras.layers.Dense(1))\n",
        "\n",
        "  model.compile(\n",
        "    optimizer='adam',\n",
        "    loss=tf.keras.losses.BinaryCrossentropy(from_logits=True),\n",
        "    metrics=['accuracy'])\n",
        "\n",
        "  if load_weights:\n",
        "    model.load_weights(checkpoint_path)\n",
        "\n",
        "  return model, cp_callback"
      ],
      "metadata": {
        "id": "LUlM49S6po8P"
      },
      "execution_count": null,
      "outputs": []
    },
    {
      "cell_type": "code",
      "source": [
        "def train(\n",
        "    train_dataset,\n",
        "    validation_dataset,\n",
        "    model,\n",
        "    cp_callback,\n",
        "    epochs=3\n",
        "):\n",
        "  history = model.fit(\n",
        "      train_dataset,\n",
        "      validation_data=validation_dataset,\n",
        "      epochs=epochs,\n",
        "      callbacks=[cp_callback]\n",
        "  )\n",
        "  return history"
      ],
      "metadata": {
        "id": "ZbFKGKQPpvBD"
      },
      "execution_count": null,
      "outputs": []
    },
    {
      "cell_type": "markdown",
      "source": [
        "Visualize result and save model"
      ],
      "metadata": {
        "id": "wGvtmbFSp7lI"
      }
    },
    {
      "cell_type": "code",
      "source": [
        "def visualize_results(\n",
        "    history,\n",
        "    epochs\n",
        "):\n",
        "  acc = history.history['accuracy']\n",
        "  val_acc = history.history['val_accuracy']\n",
        "\n",
        "  loss = history.history['loss']\n",
        "  val_loss = history.history['val_loss']\n",
        "\n",
        "  epochs_range = range(epochs)\n",
        "\n",
        "  plt.figure(figsize=(8, 8))\n",
        "  plt.subplot(1, 2, 1)\n",
        "  plt.plot(epochs_range, acc, label='Training Accuracy')\n",
        "  plt.plot(epochs_range, val_acc, label='Validation Accuracy')\n",
        "  plt.legend(loc='lower right')\n",
        "  plt.title('Training and Validation Accuracy')\n",
        "\n",
        "  plt.subplot(1, 2, 2)\n",
        "  plt.plot(epochs_range, loss, label='Training Loss')\n",
        "  plt.plot(epochs_range, val_loss, label='Validation Loss')\n",
        "  plt.legend(loc='upper right')\n",
        "  plt.title('Training and Validation Loss')\n",
        "  plt.show()"
      ],
      "metadata": {
        "id": "FFAxWuomp_b2"
      },
      "execution_count": null,
      "outputs": []
    },
    {
      "cell_type": "code",
      "source": [
        "def save_model(\n",
        "    model,\n",
        "    save_path\n",
        "):\n",
        "  model.save(save_path)"
      ],
      "metadata": {
        "id": "Uyra-L3-qJcz"
      },
      "execution_count": null,
      "outputs": []
    },
    {
      "cell_type": "markdown",
      "source": [
        "Main Training loop"
      ],
      "metadata": {
        "id": "7L1lqN4KqLmW"
      }
    },
    {
      "cell_type": "code",
      "source": [
        "def main():\n",
        "    train_dataset, validation_dataset, test_dataset, class_names = get_dataset(\n",
        "        batch_size=32,\n",
        "        img_height=224,\n",
        "        img_width=224,\n",
        "        data_dir='',                    # path to your training data  directory\n",
        "        validation_split=0.2,\n",
        "        test_data_dir=''                # Path to your test data directory\n",
        "    )\n",
        "\n",
        "    model, cp_callback = get_model(\n",
        "        checkpoint_path='',             # path to checkpoint\n",
        "        model_name='vgg16',\n",
        "        load_weights=False\n",
        "    )\n",
        "\n",
        "    input_shape = (32, 224, 224, 3)\n",
        "    model.build(input_shape)\n",
        "    print(model.summary())\n",
        "\n",
        "    epochs = 20\n",
        "    history = train(\n",
        "        train_dataset,\n",
        "        validation_dataset,\n",
        "        model,\n",
        "        cp_callback,\n",
        "        epochs=epochs\n",
        "    )\n",
        "\n",
        "    visualize_results(\n",
        "        history,\n",
        "        epochs\n",
        "    )\n",
        "\n",
        "    save_model(model, save_path='')                              # provide path to save the model at\n",
        "\n",
        "    if test_dataset:\n",
        "        # Evaluate the model on the test dataset\n",
        "        test_loss, test_accuracy = model.evaluate(test_dataset)\n",
        "        print(\"Test Loss:\", test_loss)\n",
        "        print(\"Test Accuracy:\", test_accuracy)\n",
        "\n",
        "main()\n"
      ],
      "metadata": {
        "id": "nUYkYhucqN8o"
      },
      "execution_count": null,
      "outputs": []
    }
  ]
}